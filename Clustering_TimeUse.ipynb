{
 "cells": [
  {
   "cell_type": "markdown",
   "metadata": {},
   "source": [
    "## K-Means and Hierchical Clustering of Time-Use Dataset"
   ]
  },
  {
   "cell_type": "markdown",
   "metadata": {},
   "source": [
    "### Import Packages"
   ]
  },
  {
   "cell_type": "code",
   "execution_count": 1,
   "metadata": {
    "collapsed": true
   },
   "outputs": [],
   "source": [
    "from __future__ import division, print_function\n",
    "\n",
    "# import packages for this example\n",
    "import pandas as pd  # DataFrame operations \n",
    "from collections import OrderedDict  # to create DataFrame with ordered columns\n",
    "# special plotting methods\n",
    "from pandas.tools.plotting import scatter_matrix    \n",
    "import numpy as np  # arrays and math functions\n",
    "import matplotlib.pyplot as plt  # static plotting\n",
    "import sys\n",
    "sys.path.append('/anaconda/lib/python2.7/site-packages')\n",
    "from sklearn import preprocessing\n",
    "from sklearn.cluster import KMeans\n",
    "from sklearn.cluster import AgglomerativeClustering\n",
    "from sklearn import metrics  # for silhouette coefficient\n",
    "from scipy.cluster.hierarchy import dendrogram"
   ]
  },
  {
   "cell_type": "code",
   "execution_count": 2,
   "metadata": {
    "collapsed": true
   },
   "outputs": [],
   "source": [
    "#define dendrogram plot function\n",
    "\n",
    "# the following code is adapted from Matt Kallada posting at\n",
    "# https://github.com/scikit-learn/scikit-learn/pull/3464/files\n",
    "# user-defined function to accommodate tree plotting\n",
    "# from sklearn AgglomerativeClustering\n",
    "def plot_dendrogram(model, **kwargs):\n",
    "    # Children of hierarchical clustering\n",
    "    children = model.children_\n",
    "    # Distances between each pair of children\n",
    "    # Since we don't have this information, \n",
    "    # we can use a uniform one for plotting\n",
    "    distance = np.arange(children.shape[0])\n",
    "    # The number of observations contained in each cluster level\n",
    "    no_of_observations = np.arange(2, children.shape[0]+2)\n",
    "    # Create linkage matrix and then plot the dendrogram\n",
    "    linkage_matrix = \\\n",
    "        np.column_stack([children, distance, no_of_observations]).astype(float)\n",
    "    # Plot the corresponding dendrogram\n",
    "    dendrogram(linkage_matrix, **kwargs)"
   ]
  },
  {
   "cell_type": "markdown",
   "metadata": {},
   "source": [
    "### Import Data and Dataset Overview"
   ]
  },
  {
   "cell_type": "code",
   "execution_count": 3,
   "metadata": {
    "collapsed": true
   },
   "outputs": [],
   "source": [
    "# create Pandas DataFram from the student data\n",
    "# define a pandas DataFrame\n",
    "timeuse = pd.read_csv('time_use_1976_rev.csv')"
   ]
  },
  {
   "cell_type": "code",
   "execution_count": 4,
   "metadata": {
    "collapsed": false
   },
   "outputs": [
    {
     "name": "stdout",
     "output_type": "stream",
     "text": [
      "\n",
      "----- Summary of Input Data -----\n",
      "\n",
      "Object type:  <class 'pandas.core.frame.DataFrame'>\n",
      "Number of observations:  28\n",
      "Variable names:  Index([u'group', u'gender', u'professional_work_status', u'marital_status',\n",
      "       u'country', u'professional', u'transport', u'housework', u'childcare',\n",
      "       u'shopping', u'personal', u'mealtime', u'sleep', u'tv', u'leisure'],\n",
      "      dtype='object')\n",
      "       professional   transport   housework   childcare    shopping  \\\n",
      "count     28.000000   28.000000   28.000000   28.000000   28.000000   \n",
      "mean     448.857143   86.071429  276.964286   33.321429  108.678571   \n",
      "std      226.976376   48.095529  198.606718   30.457078   32.514445   \n",
      "min       10.000000    0.000000   50.000000    0.000000   52.000000   \n",
      "25%      356.750000   47.500000   96.500000   10.000000   85.000000   \n",
      "50%      535.000000   95.500000  256.000000   22.000000  112.000000   \n",
      "75%      630.750000  127.000000  423.500000   56.000000  131.000000   \n",
      "max      655.000000  148.000000  710.000000  110.000000  170.000000   \n",
      "\n",
      "         personal    mealtime       sleep          tv     leisure  \n",
      "count   28.000000   28.000000   28.000000   28.000000   28.000000  \n",
      "mean    94.857143  118.071429  785.607143   99.428571  348.428571  \n",
      "std     11.555708   25.703334   29.586457   39.408994   64.294132  \n",
      "min     77.000000   85.000000  745.000000   40.000000  228.000000  \n",
      "25%     89.500000  100.000000  761.500000   64.750000  308.750000  \n",
      "50%     92.000000  110.000000  775.000000   91.500000  361.000000  \n",
      "75%     96.250000  132.500000  808.250000  122.750000  388.250000  \n",
      "max    130.000000  180.000000  848.000000  180.000000  475.000000  \n",
      "   group gender professional_work_status marital_status country  professional  \\\n",
      "0   maus    men                   active            NaN     USA           610   \n",
      "1   waus  women                   active            NaN     USA           475   \n",
      "2  wnaus  women               not active            NaN     USA            10   \n",
      "3  mnsus    men                      NaN     not single     USA           615   \n",
      "4  wnsus  women                      NaN     not single     USA           179   \n",
      "\n",
      "   transport  housework  childcare  shopping  personal  mealtime  sleep   tv  \\\n",
      "0        140         60         10       120        95       115    760  175   \n",
      "1         90        250         30       140       120       100    775  115   \n",
      "2          0        495        110       170       110       130    785  160   \n",
      "3        141         65         10       115        90       115    765  180   \n",
      "4         29        421         87       161       112       119    776  143   \n",
      "\n",
      "   leisure  \n",
      "0      315  \n",
      "1      305  \n",
      "2      430  \n",
      "3      305  \n",
      "4      373  \n"
     ]
    }
   ],
   "source": [
    "print('')\n",
    "print('----- Summary of Input Data -----')\n",
    "print('')\n",
    "\n",
    "# show the object is a DataFrame\n",
    "print('Object type: ', type(timeuse))\n",
    "\n",
    "# show number of observations in the DataFrame\n",
    "print('Number of observations: ', len(timeuse))\n",
    "\n",
    "# show variable names\n",
    "variable = timeuse.columns\n",
    "print('Variable names: ', variable)\n",
    "\n",
    "# show descriptive statistics\n",
    "pd.set_option('display.max_columns', None)  # do not limit output\n",
    "print(timeuse.describe())\n",
    "\n",
    "# show a portion of the beginning of the DataFrame\n",
    "print(timeuse.head())"
   ]
  },
  {
   "cell_type": "code",
   "execution_count": 5,
   "metadata": {
    "collapsed": false
   },
   "outputs": [
    {
     "data": {
      "text/plain": [
       "group                        0\n",
       "gender                       0\n",
       "professional_work_status    16\n",
       "marital_status              12\n",
       "country                      0\n",
       "professional                 0\n",
       "transport                    0\n",
       "housework                    0\n",
       "childcare                    0\n",
       "shopping                     0\n",
       "personal                     0\n",
       "mealtime                     0\n",
       "sleep                        0\n",
       "tv                           0\n",
       "leisure                      0\n",
       "dtype: int64"
      ]
     },
     "execution_count": 5,
     "metadata": {},
     "output_type": "execute_result"
    }
   ],
   "source": [
    "#look for missing data\n",
    "pd.isnull(timeuse).sum()"
   ]
  },
  {
   "cell_type": "markdown",
   "metadata": {},
   "source": [
    "## Distance Measures and Input Matrixes"
   ]
  },
  {
   "cell_type": "code",
   "execution_count": 6,
   "metadata": {
    "collapsed": false
   },
   "outputs": [
    {
     "data": {
      "text/plain": [
       "array([[  7.22982085e-01,   1.17292306e-01,  -1.96897249e+00,\n",
       "          7.45415040e-01,  -1.21073862e+00,   6.10817312e-01,\n",
       "          1.48698443e-01,   9.11418906e-01,   2.74322990e-01,\n",
       "         -1.92410658e+00,   9.24878678e-01,  -1.26009112e+00,\n",
       "          8.66552996e-01,  -2.68554516e-01,   9.02445724e-01,\n",
       "          4.98652538e-01,  -1.96897249e+00,   9.02445724e-01,\n",
       "         -8.47324749e-01,   7.45415040e-01,  -7.11445137e-02,\n",
       "          9.02445724e-01,   5.79411175e-01,  -1.90616021e+00,\n",
       "          9.11418906e-01,  -6.66579228e-02,   7.99254132e-01,\n",
       "         -7.11445137e-02],\n",
       "       [  1.14185602e+00,   8.31815642e-02,  -1.82243245e+00,\n",
       "          1.16302951e+00,  -1.20840127e+00,   6.12518791e-01,\n",
       "          1.67875521e-01,   2.94916455e-01,  -3.40288217e-01,\n",
       "         -1.67421803e+00,   2.31395988e-01,  -1.35661569e+00,\n",
       "          4.00783900e-01,  -1.10253382e+00,   1.14185602e+00,\n",
       "          4.00783900e-01,  -1.61069756e+00,   1.24772346e+00,\n",
       "         -7.21411021e-01,   8.24253682e-01,   6.20080752e-02,\n",
       "          1.18420300e+00,   4.21957389e-01,  -1.65304454e+00,\n",
       "          9.93641594e-01,  -1.92073794e-01,   1.31124393e+00,\n",
       "         -1.51239208e-03],\n",
       "       [ -1.11247805e+00,  -1.38258589e-01,   1.11797177e+00,\n",
       "         -1.08684070e+00,   7.38538926e-01,  -1.16375276e+00,\n",
       "         -4.15142014e-01,  -9.33016570e-01,   1.54007249e-01,\n",
       "          1.48714967e+00,  -9.22761628e-01,   1.29230578e+00,\n",
       "         -1.05094840e+00,  -7.67289387e-02,  -8.04829799e-01,\n",
       "          5.02675267e-01,   2.22037800e+00,  -8.45849565e-01,\n",
       "          1.53329691e+00,  -9.33016570e-01,   2.10409429e-01,\n",
       "         -7.94574857e-01,   3.12958845e-01,   1.62559138e+00,\n",
       "         -7.33045207e-01,   7.89813634e-01,  -1.07145828e+00,\n",
       "          9.76050700e-02],\n",
       "       [ -7.79765558e-01,  -1.11053900e-01,   2.56379273e+00,\n",
       "         -7.79765558e-01,   1.79477432e+00,  -1.11412139e+00,\n",
       "         -5.12280895e-01,  -8.80072307e-01,  -1.11053900e-01,\n",
       "          1.79477432e+00,  -7.79765558e-01,   1.19293383e+00,\n",
       "         -1.11412139e+00,  -6.46023226e-01,  -6.12587643e-01,\n",
       "          3.90479843e-01,   7.24835672e-01,  -6.12587643e-01,\n",
       "          8.58578003e-01,  -1.11412139e+00,  -3.45102980e-01,\n",
       "         -3.78538563e-01,   2.90173094e-01,   1.29324058e+00,\n",
       "         -3.78538563e-01,   8.92013586e-01,  -1.11412139e+00,\n",
       "         -4.11974146e-01],\n",
       "       [  3.54586352e-01,   9.80984954e-01,   1.92058286e+00,\n",
       "          1.97986701e-01,   1.63870349e+00,   1.29418425e+00,\n",
       "          1.01230488e+00,  -1.61856925e+00,  -8.98210853e-01,\n",
       "          1.04026911e-01,  -1.77516890e+00,  -2.09172390e-01,\n",
       "         -1.46196959e+00,  -5.22371691e-01,  -7.41611202e-01,\n",
       "         -5.85011552e-01,   1.13758460e+00,  -7.41611202e-01,\n",
       "          2.29306631e-01,   1.97986701e-01,   1.04026911e-01,\n",
       "         -1.02349057e+00,  -8.38926699e-02,   1.54474370e+00,\n",
       "         -1.27405001e+00,   2.60626561e-01,  -6.47651412e-01,\n",
       "          6.05145792e-01],\n",
       "       [  1.25893274e-02,   2.21572162e+00,   1.33446870e+00,\n",
       "         -4.28037131e-01,   1.51071929e+00,   8.93842245e-01,\n",
       "          3.09697454e+00,  -8.68663590e-01,   1.25893274e-02,\n",
       "         -4.28037131e-01,  -8.68663590e-01,  -1.04491417e+00,\n",
       "         -1.57366592e+00,   1.88839911e-01,  -4.28037131e-01,\n",
       "         -4.28037131e-01,  -8.68663590e-01,  -4.28037131e-01,\n",
       "         -8.68663590e-01,  -4.28037131e-01,   1.00714619e-01,\n",
       "         -7.55359643e-02,  -7.55359643e-02,  -2.51786548e-01,\n",
       "         -7.55359643e-02,  -6.04287715e-01,  -2.51786548e-01,\n",
       "          6.29466369e-01],\n",
       "       [ -1.21688096e-01,  -7.15978796e-01,   4.72602604e-01,\n",
       "         -1.21688096e-01,   3.67894243e-02,  -7.15978796e-01,\n",
       "         -8.74456316e-01,   1.26499020e+00,   9.48035164e-01,\n",
       "          2.45357160e+00,   1.34422896e+00,   2.21585532e+00,\n",
       "          8.68796404e-01,   1.14613206e+00,  -5.17881896e-01,\n",
       "         -9.14075696e-01,   4.72602604e-01,  -5.17881896e-01,\n",
       "         -4.24493357e-02,  -1.31026950e+00,  -6.36740036e-01,\n",
       "         -7.15978796e-01,  -1.03293384e+00,   3.93363844e-01,\n",
       "         -6.36740036e-01,  -5.17881896e-01,  -1.27065012e+00,\n",
       "         -9.53695076e-01],\n",
       "       [ -8.81384259e-01,  -3.65092224e-01,  -2.08975347e-02,\n",
       "         -7.09286914e-01,  -3.30672755e-01,  -8.81384259e-01,\n",
       "         -3.65092224e-01,   7.36330782e-01,   1.01168653e+00,\n",
       "          1.94101220e+00,   7.36330782e-01,   1.35588122e+00,\n",
       "          9.08428127e-01,   2.14752901e+00,  -8.81384259e-01,\n",
       "         -1.39767629e+00,   1.01168653e+00,  -8.81384259e-01,\n",
       "         -3.65092224e-01,  -8.81384259e-01,  -3.99511693e-01,\n",
       "         -7.43706383e-01,  -1.15674001e+00,   1.87217326e+00,\n",
       "         -8.12545321e-01,  -5.37189569e-01,  -5.37189569e-01,\n",
       "          4.26555562e-01],\n",
       "       [  1.95280744e+00,   4.02374311e-01,   1.56519916e+00,\n",
       "          2.08201020e+00,   1.12590977e+00,   1.30679363e+00,\n",
       "          8.41663697e-01,   4.02374311e-01,  -3.21161148e-01,\n",
       "          6.60779832e-01,   5.83258176e-01,   5.05736520e-01,\n",
       "          1.47660298e-02,  -3.98682804e-01,  -7.60450533e-01,\n",
       "         -1.01885605e+00,  -1.01885605e+00,  -5.02045012e-01,\n",
       "         -8.89653294e-01,  -1.53566710e+00,  -1.40646434e+00,\n",
       "         -8.85961786e-02,  -9.15493846e-01,  -3.47001700e-01,\n",
       "          5.83258176e-01,  -6.82928877e-01,  -1.07053716e+00,\n",
       "         -1.07053716e+00],\n",
       "       [ -5.29472747e-01,  -6.87862031e-01,   1.29200401e+00,\n",
       "         -6.87862031e-01,   3.89185096e-01,   5.79252236e-01,\n",
       "         -1.96855252e-01,  -2.91888822e-01,  -1.36893595e+00,\n",
       "          2.94151526e-01,  -4.50278106e-01,   6.90124735e-01,\n",
       "          6.10930093e-01,   6.90124735e-01,   2.62473670e-01,\n",
       "         -1.79658701e+00,   5.00057595e-01,   1.35762243e-01,\n",
       "         -8.46251314e-01,   2.00475579e+00,   9.59386517e-01,\n",
       "         -2.28533109e-01,  -1.90745951e+00,   7.85158305e-01,\n",
       "         -6.08667389e-01,  -1.89162058e+00,   1.81468865e+00,\n",
       "          4.84218666e-01]])"
      ]
     },
     "execution_count": 6,
     "metadata": {},
     "output_type": "execute_result"
    }
   ],
   "source": [
    "#Create Timeuse variable input matrix\n",
    "\n",
    "#select only the time-use variables\n",
    "df1 = timeuse.iloc[:, 5:15]\n",
    "\n",
    "# it is good practice to standardize variables prior to clustering\n",
    "# work with standard scores for all cluster variables\n",
    "# standard scores have zero mean and unit standard deviation\n",
    "# here we standardize each student's data \n",
    "standardized_timeuse_matrix = preprocessing.scale(df1)\n",
    "\n",
    "# transpose of matrix needed for clusters of variables\n",
    "timeuse_kmeanscluster_data = standardized_timeuse_matrix.T\n",
    "\n",
    "timeuse_kmeanscluster_data"
   ]
  },
  {
   "cell_type": "code",
   "execution_count": 7,
   "metadata": {
    "collapsed": false
   },
   "outputs": [
    {
     "data": {
      "text/plain": [
       "array([[  7.22982085e-01,   1.17292306e-01,  -1.96897249e+00,\n",
       "          7.45415040e-01,  -1.21073862e+00,   6.10817312e-01,\n",
       "          1.48698443e-01,   9.11418906e-01,   2.74322990e-01,\n",
       "         -1.92410658e+00,   9.24878678e-01,  -1.26009112e+00,\n",
       "          8.66552996e-01,  -2.68554516e-01,   9.02445724e-01,\n",
       "          4.98652538e-01,  -1.96897249e+00,   9.02445724e-01,\n",
       "         -8.47324749e-01,   7.45415040e-01,  -7.11445137e-02,\n",
       "          9.02445724e-01,   5.79411175e-01,  -1.90616021e+00,\n",
       "          9.11418906e-01,  -6.66579228e-02,   7.99254132e-01,\n",
       "         -7.11445137e-02],\n",
       "       [  1.14185602e+00,   8.31815642e-02,  -1.82243245e+00,\n",
       "          1.16302951e+00,  -1.20840127e+00,   6.12518791e-01,\n",
       "          1.67875521e-01,   2.94916455e-01,  -3.40288217e-01,\n",
       "         -1.67421803e+00,   2.31395988e-01,  -1.35661569e+00,\n",
       "          4.00783900e-01,  -1.10253382e+00,   1.14185602e+00,\n",
       "          4.00783900e-01,  -1.61069756e+00,   1.24772346e+00,\n",
       "         -7.21411021e-01,   8.24253682e-01,   6.20080752e-02,\n",
       "          1.18420300e+00,   4.21957389e-01,  -1.65304454e+00,\n",
       "          9.93641594e-01,  -1.92073794e-01,   1.31124393e+00,\n",
       "         -1.51239208e-03],\n",
       "       [ -1.11247805e+00,  -1.38258589e-01,   1.11797177e+00,\n",
       "         -1.08684070e+00,   7.38538926e-01,  -1.16375276e+00,\n",
       "         -4.15142014e-01,  -9.33016570e-01,   1.54007249e-01,\n",
       "          1.48714967e+00,  -9.22761628e-01,   1.29230578e+00,\n",
       "         -1.05094840e+00,  -7.67289387e-02,  -8.04829799e-01,\n",
       "          5.02675267e-01,   2.22037800e+00,  -8.45849565e-01,\n",
       "          1.53329691e+00,  -9.33016570e-01,   2.10409429e-01,\n",
       "         -7.94574857e-01,   3.12958845e-01,   1.62559138e+00,\n",
       "         -7.33045207e-01,   7.89813634e-01,  -1.07145828e+00,\n",
       "          9.76050700e-02],\n",
       "       [ -7.79765558e-01,  -1.11053900e-01,   2.56379273e+00,\n",
       "         -7.79765558e-01,   1.79477432e+00,  -1.11412139e+00,\n",
       "         -5.12280895e-01,  -8.80072307e-01,  -1.11053900e-01,\n",
       "          1.79477432e+00,  -7.79765558e-01,   1.19293383e+00,\n",
       "         -1.11412139e+00,  -6.46023226e-01,  -6.12587643e-01,\n",
       "          3.90479843e-01,   7.24835672e-01,  -6.12587643e-01,\n",
       "          8.58578003e-01,  -1.11412139e+00,  -3.45102980e-01,\n",
       "         -3.78538563e-01,   2.90173094e-01,   1.29324058e+00,\n",
       "         -3.78538563e-01,   8.92013586e-01,  -1.11412139e+00,\n",
       "         -4.11974146e-01],\n",
       "       [  3.54586352e-01,   9.80984954e-01,   1.92058286e+00,\n",
       "          1.97986701e-01,   1.63870349e+00,   1.29418425e+00,\n",
       "          1.01230488e+00,  -1.61856925e+00,  -8.98210853e-01,\n",
       "          1.04026911e-01,  -1.77516890e+00,  -2.09172390e-01,\n",
       "         -1.46196959e+00,  -5.22371691e-01,  -7.41611202e-01,\n",
       "         -5.85011552e-01,   1.13758460e+00,  -7.41611202e-01,\n",
       "          2.29306631e-01,   1.97986701e-01,   1.04026911e-01,\n",
       "         -1.02349057e+00,  -8.38926699e-02,   1.54474370e+00,\n",
       "         -1.27405001e+00,   2.60626561e-01,  -6.47651412e-01,\n",
       "          6.05145792e-01],\n",
       "       [  1.25893274e-02,   2.21572162e+00,   1.33446870e+00,\n",
       "         -4.28037131e-01,   1.51071929e+00,   8.93842245e-01,\n",
       "          3.09697454e+00,  -8.68663590e-01,   1.25893274e-02,\n",
       "         -4.28037131e-01,  -8.68663590e-01,  -1.04491417e+00,\n",
       "         -1.57366592e+00,   1.88839911e-01,  -4.28037131e-01,\n",
       "         -4.28037131e-01,  -8.68663590e-01,  -4.28037131e-01,\n",
       "         -8.68663590e-01,  -4.28037131e-01,   1.00714619e-01,\n",
       "         -7.55359643e-02,  -7.55359643e-02,  -2.51786548e-01,\n",
       "         -7.55359643e-02,  -6.04287715e-01,  -2.51786548e-01,\n",
       "          6.29466369e-01],\n",
       "       [ -1.21688096e-01,  -7.15978796e-01,   4.72602604e-01,\n",
       "         -1.21688096e-01,   3.67894243e-02,  -7.15978796e-01,\n",
       "         -8.74456316e-01,   1.26499020e+00,   9.48035164e-01,\n",
       "          2.45357160e+00,   1.34422896e+00,   2.21585532e+00,\n",
       "          8.68796404e-01,   1.14613206e+00,  -5.17881896e-01,\n",
       "         -9.14075696e-01,   4.72602604e-01,  -5.17881896e-01,\n",
       "         -4.24493357e-02,  -1.31026950e+00,  -6.36740036e-01,\n",
       "         -7.15978796e-01,  -1.03293384e+00,   3.93363844e-01,\n",
       "         -6.36740036e-01,  -5.17881896e-01,  -1.27065012e+00,\n",
       "         -9.53695076e-01],\n",
       "       [ -8.81384259e-01,  -3.65092224e-01,  -2.08975347e-02,\n",
       "         -7.09286914e-01,  -3.30672755e-01,  -8.81384259e-01,\n",
       "         -3.65092224e-01,   7.36330782e-01,   1.01168653e+00,\n",
       "          1.94101220e+00,   7.36330782e-01,   1.35588122e+00,\n",
       "          9.08428127e-01,   2.14752901e+00,  -8.81384259e-01,\n",
       "         -1.39767629e+00,   1.01168653e+00,  -8.81384259e-01,\n",
       "         -3.65092224e-01,  -8.81384259e-01,  -3.99511693e-01,\n",
       "         -7.43706383e-01,  -1.15674001e+00,   1.87217326e+00,\n",
       "         -8.12545321e-01,  -5.37189569e-01,  -5.37189569e-01,\n",
       "          4.26555562e-01],\n",
       "       [  1.95280744e+00,   4.02374311e-01,   1.56519916e+00,\n",
       "          2.08201020e+00,   1.12590977e+00,   1.30679363e+00,\n",
       "          8.41663697e-01,   4.02374311e-01,  -3.21161148e-01,\n",
       "          6.60779832e-01,   5.83258176e-01,   5.05736520e-01,\n",
       "          1.47660298e-02,  -3.98682804e-01,  -7.60450533e-01,\n",
       "         -1.01885605e+00,  -1.01885605e+00,  -5.02045012e-01,\n",
       "         -8.89653294e-01,  -1.53566710e+00,  -1.40646434e+00,\n",
       "         -8.85961786e-02,  -9.15493846e-01,  -3.47001700e-01,\n",
       "          5.83258176e-01,  -6.82928877e-01,  -1.07053716e+00,\n",
       "         -1.07053716e+00],\n",
       "       [ -5.29472747e-01,  -6.87862031e-01,   1.29200401e+00,\n",
       "         -6.87862031e-01,   3.89185096e-01,   5.79252236e-01,\n",
       "         -1.96855252e-01,  -2.91888822e-01,  -1.36893595e+00,\n",
       "          2.94151526e-01,  -4.50278106e-01,   6.90124735e-01,\n",
       "          6.10930093e-01,   6.90124735e-01,   2.62473670e-01,\n",
       "         -1.79658701e+00,   5.00057595e-01,   1.35762243e-01,\n",
       "         -8.46251314e-01,   2.00475579e+00,   9.59386517e-01,\n",
       "         -2.28533109e-01,  -1.90745951e+00,   7.85158305e-01,\n",
       "         -6.08667389e-01,  -1.89162058e+00,   1.81468865e+00,\n",
       "          4.84218666e-01]])"
      ]
     },
     "execution_count": 7,
     "metadata": {},
     "output_type": "execute_result"
    }
   ],
   "source": [
    "#Create Timeuse variable input matrix\n",
    "\n",
    "#select only the time-use variables\n",
    "df1 = timeuse.iloc[:, 5:15]\n",
    "\n",
    "# it is good practice to standardize variables prior to clustering\n",
    "# work with standard scores for all cluster variables\n",
    "# standard scores have zero mean and unit standard deviation\n",
    "# here we standardize each student's data \n",
    "standardized_timeuse_matrix = preprocessing.scale(df1)\n",
    "\n",
    "# transpose of matrix needed for clusters of variables\n",
    "timeuse_kmeanscluster_data = standardized_timeuse_matrix.T\n",
    "\n",
    "timeuse_kmeanscluster_data"
   ]
  },
  {
   "cell_type": "code",
   "execution_count": 8,
   "metadata": {
    "collapsed": false
   },
   "outputs": [],
   "source": [
    "#Create Demographic variable input matrix\n",
    "\n",
    "#select only the demographic variables\n",
    "df2 = timeuse.iloc[:, 0:5]"
   ]
  },
  {
   "cell_type": "code",
   "execution_count": 9,
   "metadata": {
    "collapsed": false
   },
   "outputs": [
    {
     "data": {
      "text/html": [
       "<div>\n",
       "<table border=\"1\" class=\"dataframe\">\n",
       "  <thead>\n",
       "    <tr style=\"text-align: right;\">\n",
       "      <th></th>\n",
       "      <th>group</th>\n",
       "      <th>gender</th>\n",
       "      <th>professional_work_status</th>\n",
       "      <th>marital_status</th>\n",
       "      <th>country</th>\n",
       "    </tr>\n",
       "  </thead>\n",
       "  <tbody>\n",
       "    <tr>\n",
       "      <th>0</th>\n",
       "      <td>maus</td>\n",
       "      <td>men</td>\n",
       "      <td>active</td>\n",
       "      <td>NaN</td>\n",
       "      <td>USA</td>\n",
       "    </tr>\n",
       "    <tr>\n",
       "      <th>1</th>\n",
       "      <td>waus</td>\n",
       "      <td>women</td>\n",
       "      <td>active</td>\n",
       "      <td>NaN</td>\n",
       "      <td>USA</td>\n",
       "    </tr>\n",
       "  </tbody>\n",
       "</table>\n",
       "</div>"
      ],
      "text/plain": [
       "  group gender professional_work_status marital_status country\n",
       "0  maus    men                   active            NaN     USA\n",
       "1  waus  women                   active            NaN     USA"
      ]
     },
     "execution_count": 9,
     "metadata": {},
     "output_type": "execute_result"
    }
   ],
   "source": [
    "df2.head(2)"
   ]
  },
  {
   "cell_type": "code",
   "execution_count": 10,
   "metadata": {
    "collapsed": true
   },
   "outputs": [],
   "source": [
    "dummy_group = pd.get_dummies(df2[\"group\"], prefix=\"Group\")\n",
    "dummy_gender = pd.get_dummies(df2[\"gender\"], prefix=\"Gender\")\n",
    "dummy_workstatus = pd.get_dummies(df2[\"professional_work_status\"], prefix=\"Professional_Work_Status\")\n",
    "dummy_maritalstatus = pd.get_dummies(df2[\"marital_status\"], prefix=\"Marital_Status\")\n",
    "dummy_country = pd.get_dummies(df2[\"country\"], prefix=\"Country\")"
   ]
  },
  {
   "cell_type": "code",
   "execution_count": 11,
   "metadata": {
    "collapsed": false
   },
   "outputs": [
    {
     "data": {
      "text/html": [
       "<div>\n",
       "<table border=\"1\" class=\"dataframe\">\n",
       "  <thead>\n",
       "    <tr style=\"text-align: right;\">\n",
       "      <th></th>\n",
       "      <th>Group_maea</th>\n",
       "      <th>Group_maus</th>\n",
       "      <th>Group_mawe</th>\n",
       "      <th>Group_mayu</th>\n",
       "      <th>Group_mnsea</th>\n",
       "      <th>Group_mnsus</th>\n",
       "      <th>Group_mnswe</th>\n",
       "      <th>Group_mnsyu</th>\n",
       "      <th>Group_msea</th>\n",
       "      <th>Group_msus</th>\n",
       "      <th>Group_mswe</th>\n",
       "      <th>Group_msyu</th>\n",
       "      <th>Group_waea</th>\n",
       "      <th>Group_waus</th>\n",
       "      <th>Group_wawe</th>\n",
       "      <th>Group_wayu</th>\n",
       "      <th>Group_wnaea</th>\n",
       "      <th>Group_wnaus</th>\n",
       "      <th>Group_wnawe</th>\n",
       "      <th>Group_wnayu</th>\n",
       "      <th>Group_wnsea</th>\n",
       "      <th>Group_wnsus</th>\n",
       "      <th>Group_wnswe</th>\n",
       "      <th>Group_wnsyu</th>\n",
       "      <th>Group_wsea</th>\n",
       "      <th>Group_wsus</th>\n",
       "      <th>Group_wswe</th>\n",
       "      <th>Group_wsyu</th>\n",
       "      <th>Gender_men</th>\n",
       "      <th>Gender_women</th>\n",
       "      <th>Professional_Work_Status_active</th>\n",
       "      <th>Professional_Work_Status_not active</th>\n",
       "      <th>Marital_Status_not single</th>\n",
       "      <th>Marital_Status_single</th>\n",
       "      <th>Country_Eastern</th>\n",
       "      <th>Country_USA</th>\n",
       "      <th>Country_Western</th>\n",
       "      <th>Country_Yugoslavia</th>\n",
       "    </tr>\n",
       "  </thead>\n",
       "  <tbody>\n",
       "    <tr>\n",
       "      <th>0</th>\n",
       "      <td>0.0</td>\n",
       "      <td>1.0</td>\n",
       "      <td>0.0</td>\n",
       "      <td>0.0</td>\n",
       "      <td>0.0</td>\n",
       "      <td>0.0</td>\n",
       "      <td>0.0</td>\n",
       "      <td>0.0</td>\n",
       "      <td>0.0</td>\n",
       "      <td>0.0</td>\n",
       "      <td>0.0</td>\n",
       "      <td>0.0</td>\n",
       "      <td>0.0</td>\n",
       "      <td>0.0</td>\n",
       "      <td>0.0</td>\n",
       "      <td>0.0</td>\n",
       "      <td>0.0</td>\n",
       "      <td>0.0</td>\n",
       "      <td>0.0</td>\n",
       "      <td>0.0</td>\n",
       "      <td>0.0</td>\n",
       "      <td>0.0</td>\n",
       "      <td>0.0</td>\n",
       "      <td>0.0</td>\n",
       "      <td>0.0</td>\n",
       "      <td>0.0</td>\n",
       "      <td>0.0</td>\n",
       "      <td>0.0</td>\n",
       "      <td>1.0</td>\n",
       "      <td>0.0</td>\n",
       "      <td>1.0</td>\n",
       "      <td>0.0</td>\n",
       "      <td>0.0</td>\n",
       "      <td>0.0</td>\n",
       "      <td>0.0</td>\n",
       "      <td>1.0</td>\n",
       "      <td>0.0</td>\n",
       "      <td>0.0</td>\n",
       "    </tr>\n",
       "    <tr>\n",
       "      <th>1</th>\n",
       "      <td>0.0</td>\n",
       "      <td>0.0</td>\n",
       "      <td>0.0</td>\n",
       "      <td>0.0</td>\n",
       "      <td>0.0</td>\n",
       "      <td>0.0</td>\n",
       "      <td>0.0</td>\n",
       "      <td>0.0</td>\n",
       "      <td>0.0</td>\n",
       "      <td>0.0</td>\n",
       "      <td>0.0</td>\n",
       "      <td>0.0</td>\n",
       "      <td>0.0</td>\n",
       "      <td>1.0</td>\n",
       "      <td>0.0</td>\n",
       "      <td>0.0</td>\n",
       "      <td>0.0</td>\n",
       "      <td>0.0</td>\n",
       "      <td>0.0</td>\n",
       "      <td>0.0</td>\n",
       "      <td>0.0</td>\n",
       "      <td>0.0</td>\n",
       "      <td>0.0</td>\n",
       "      <td>0.0</td>\n",
       "      <td>0.0</td>\n",
       "      <td>0.0</td>\n",
       "      <td>0.0</td>\n",
       "      <td>0.0</td>\n",
       "      <td>0.0</td>\n",
       "      <td>1.0</td>\n",
       "      <td>1.0</td>\n",
       "      <td>0.0</td>\n",
       "      <td>0.0</td>\n",
       "      <td>0.0</td>\n",
       "      <td>0.0</td>\n",
       "      <td>1.0</td>\n",
       "      <td>0.0</td>\n",
       "      <td>0.0</td>\n",
       "    </tr>\n",
       "  </tbody>\n",
       "</table>\n",
       "</div>"
      ],
      "text/plain": [
       "   Group_maea  Group_maus  Group_mawe  Group_mayu  Group_mnsea  Group_mnsus  \\\n",
       "0         0.0         1.0         0.0         0.0          0.0          0.0   \n",
       "1         0.0         0.0         0.0         0.0          0.0          0.0   \n",
       "\n",
       "   Group_mnswe  Group_mnsyu  Group_msea  Group_msus  Group_mswe  Group_msyu  \\\n",
       "0          0.0          0.0         0.0         0.0         0.0         0.0   \n",
       "1          0.0          0.0         0.0         0.0         0.0         0.0   \n",
       "\n",
       "   Group_waea  Group_waus  Group_wawe  Group_wayu  Group_wnaea  Group_wnaus  \\\n",
       "0         0.0         0.0         0.0         0.0          0.0          0.0   \n",
       "1         0.0         1.0         0.0         0.0          0.0          0.0   \n",
       "\n",
       "   Group_wnawe  Group_wnayu  Group_wnsea  Group_wnsus  Group_wnswe  \\\n",
       "0          0.0          0.0          0.0          0.0          0.0   \n",
       "1          0.0          0.0          0.0          0.0          0.0   \n",
       "\n",
       "   Group_wnsyu  Group_wsea  Group_wsus  Group_wswe  Group_wsyu  Gender_men  \\\n",
       "0          0.0         0.0         0.0         0.0         0.0         1.0   \n",
       "1          0.0         0.0         0.0         0.0         0.0         0.0   \n",
       "\n",
       "   Gender_women  Professional_Work_Status_active  \\\n",
       "0           0.0                              1.0   \n",
       "1           1.0                              1.0   \n",
       "\n",
       "   Professional_Work_Status_not active  Marital_Status_not single  \\\n",
       "0                                  0.0                        0.0   \n",
       "1                                  0.0                        0.0   \n",
       "\n",
       "   Marital_Status_single  Country_Eastern  Country_USA  Country_Western  \\\n",
       "0                    0.0              0.0          1.0              0.0   \n",
       "1                    0.0              0.0          1.0              0.0   \n",
       "\n",
       "   Country_Yugoslavia  \n",
       "0                 0.0  \n",
       "1                 0.0  "
      ]
     },
     "execution_count": 11,
     "metadata": {},
     "output_type": "execute_result"
    }
   ],
   "source": [
    "#combine dummy variables w/dataframe\n",
    "df3 = pd.concat([dummy_group, dummy_gender, dummy_workstatus, dummy_maritalstatus, dummy_country], axis=1)\n",
    "\n",
    "#check\n",
    "df3.head(2)"
   ]
  },
  {
   "cell_type": "code",
   "execution_count": 12,
   "metadata": {
    "collapsed": false
   },
   "outputs": [
    {
     "data": {
      "text/html": [
       "<div>\n",
       "<table border=\"1\" class=\"dataframe\">\n",
       "  <thead>\n",
       "    <tr style=\"text-align: right;\">\n",
       "      <th></th>\n",
       "      <th>0</th>\n",
       "      <th>1</th>\n",
       "      <th>2</th>\n",
       "      <th>3</th>\n",
       "      <th>4</th>\n",
       "      <th>5</th>\n",
       "      <th>6</th>\n",
       "      <th>7</th>\n",
       "      <th>8</th>\n",
       "      <th>9</th>\n",
       "      <th>10</th>\n",
       "      <th>11</th>\n",
       "      <th>12</th>\n",
       "      <th>13</th>\n",
       "      <th>14</th>\n",
       "      <th>15</th>\n",
       "      <th>16</th>\n",
       "      <th>17</th>\n",
       "      <th>18</th>\n",
       "      <th>19</th>\n",
       "      <th>20</th>\n",
       "      <th>21</th>\n",
       "      <th>22</th>\n",
       "      <th>23</th>\n",
       "      <th>24</th>\n",
       "      <th>25</th>\n",
       "      <th>26</th>\n",
       "      <th>27</th>\n",
       "    </tr>\n",
       "  </thead>\n",
       "  <tbody>\n",
       "    <tr>\n",
       "      <th>Group_maea</th>\n",
       "      <td>0.0</td>\n",
       "      <td>0.0</td>\n",
       "      <td>0.0</td>\n",
       "      <td>0.0</td>\n",
       "      <td>0.0</td>\n",
       "      <td>0.0</td>\n",
       "      <td>0.0</td>\n",
       "      <td>0.0</td>\n",
       "      <td>0.0</td>\n",
       "      <td>0.0</td>\n",
       "      <td>0.0</td>\n",
       "      <td>0.0</td>\n",
       "      <td>0.0</td>\n",
       "      <td>0.0</td>\n",
       "      <td>0.0</td>\n",
       "      <td>0.0</td>\n",
       "      <td>0.0</td>\n",
       "      <td>0.0</td>\n",
       "      <td>0.0</td>\n",
       "      <td>0.0</td>\n",
       "      <td>0.0</td>\n",
       "      <td>1.0</td>\n",
       "      <td>0.0</td>\n",
       "      <td>0.0</td>\n",
       "      <td>0.0</td>\n",
       "      <td>0.0</td>\n",
       "      <td>0.0</td>\n",
       "      <td>0.0</td>\n",
       "    </tr>\n",
       "    <tr>\n",
       "      <th>Group_maus</th>\n",
       "      <td>1.0</td>\n",
       "      <td>0.0</td>\n",
       "      <td>0.0</td>\n",
       "      <td>0.0</td>\n",
       "      <td>0.0</td>\n",
       "      <td>0.0</td>\n",
       "      <td>0.0</td>\n",
       "      <td>0.0</td>\n",
       "      <td>0.0</td>\n",
       "      <td>0.0</td>\n",
       "      <td>0.0</td>\n",
       "      <td>0.0</td>\n",
       "      <td>0.0</td>\n",
       "      <td>0.0</td>\n",
       "      <td>0.0</td>\n",
       "      <td>0.0</td>\n",
       "      <td>0.0</td>\n",
       "      <td>0.0</td>\n",
       "      <td>0.0</td>\n",
       "      <td>0.0</td>\n",
       "      <td>0.0</td>\n",
       "      <td>0.0</td>\n",
       "      <td>0.0</td>\n",
       "      <td>0.0</td>\n",
       "      <td>0.0</td>\n",
       "      <td>0.0</td>\n",
       "      <td>0.0</td>\n",
       "      <td>0.0</td>\n",
       "    </tr>\n",
       "  </tbody>\n",
       "</table>\n",
       "</div>"
      ],
      "text/plain": [
       "             0    1    2    3    4    5    6    7    8    9    10   11   12  \\\n",
       "Group_maea  0.0  0.0  0.0  0.0  0.0  0.0  0.0  0.0  0.0  0.0  0.0  0.0  0.0   \n",
       "Group_maus  1.0  0.0  0.0  0.0  0.0  0.0  0.0  0.0  0.0  0.0  0.0  0.0  0.0   \n",
       "\n",
       "             13   14   15   16   17   18   19   20   21   22   23   24   25  \\\n",
       "Group_maea  0.0  0.0  0.0  0.0  0.0  0.0  0.0  0.0  1.0  0.0  0.0  0.0  0.0   \n",
       "Group_maus  0.0  0.0  0.0  0.0  0.0  0.0  0.0  0.0  0.0  0.0  0.0  0.0  0.0   \n",
       "\n",
       "             26   27  \n",
       "Group_maea  0.0  0.0  \n",
       "Group_maus  0.0  0.0  "
      ]
     },
     "execution_count": 12,
     "metadata": {},
     "output_type": "execute_result"
    }
   ],
   "source": [
    "# transpose of matrix needed for clusters of variables\n",
    "demo_kmeanscluster_data = df3.T\n",
    "\n",
    "demo_kmeanscluster_data.head(2)"
   ]
  },
  {
   "cell_type": "markdown",
   "metadata": {},
   "source": [
    "### Cluster analysis of Time-Use Activities"
   ]
  },
  {
   "cell_type": "markdown",
   "metadata": {},
   "source": [
    "#### K-Means Clustering"
   ]
  },
  {
   "cell_type": "code",
   "execution_count": 13,
   "metadata": {
    "collapsed": false
   },
   "outputs": [
    {
     "name": "stdout",
     "output_type": "stream",
     "text": [
      "\n",
      "   cluster  variable\n",
      "4        0  shopping\n",
      "5        0  personal\n",
      "8        0        tv\n",
      "\n",
      "   cluster      variable\n",
      "0        1  professional\n",
      "1        1     transport\n",
      "\n",
      "   cluster  variable\n",
      "6        2  mealtime\n",
      "7        2     sleep\n",
      "\n",
      "   cluster variable\n",
      "9        3  leisure\n",
      "\n",
      "   cluster   variable\n",
      "2        4  housework\n",
      "3        4  childcare\n",
      "Silhouette coefficient for the five-cluster k-means solution:  0.377370568187\n"
     ]
    }
   ],
   "source": [
    "# suppose we think five factors (and five clusters) will be sufficient \n",
    "# assuming that there may well be five clusters to identify\n",
    "    \n",
    "kmeans = KMeans(n_clusters = 5, n_init = 25, random_state = 1)\n",
    "kmeans.fit(timeuse_kmeanscluster_data)\n",
    "cluster = kmeans.predict(timeuse_kmeanscluster_data)  # cluster ids for variables\n",
    "\n",
    "# print(variable_kmeans_solution)\n",
    "# create pandas DataFrame for summarizing the cluster analysis results\n",
    "variable_kmeans_solution = pd.DataFrame(OrderedDict([('cluster', cluster),\n",
    "    ('variable', variable[5:15])]))\n",
    "\n",
    "# print results of variable clustering one cluster at a time\n",
    "for cluster_id in sorted(variable_kmeans_solution.cluster.unique()):\n",
    "    print()\n",
    "    print(variable_kmeans_solution.loc[variable_kmeans_solution['cluster'] == \\\n",
    "        cluster_id])\n",
    "\n",
    "# The silhouette coefficient is a useful general-purpose index\n",
    "# for evaluating the strength of a clustering solution. The original\n",
    "# reference is\n",
    "# Peter J. Rousseeuw (1987). “Silhouettes: a Graphical Aid to the \n",
    "#     Interpretation and Validation of Cluster Analysis”. \n",
    "#     Computational and Applied Mathematics 20: 53–65. \n",
    "#     doi:10.1016/0377-0427(87)90125-7.\n",
    "# larger positive values of the silhouette coefficient are preferred\n",
    "# these indicate dense, well separated clusters\n",
    "   \n",
    "# evaluate the clustering solution using the silhouette coefficient\n",
    "print('Silhouette coefficient for the five-cluster k-means solution: ', \n",
    "    metrics.silhouette_score(timeuse_kmeanscluster_data, cluster, \n",
    "        metric = 'euclidean'))   \n",
    "        \n",
    "# a low silhouette coefficient suggests that we may want to try\n",
    "# kmeans with alternative values for the number of clusters \n",
    "# or perhaps this problem is not particularly well suited for cluster analysis    "
   ]
  },
  {
   "cell_type": "markdown",
   "metadata": {},
   "source": [
    "#### Search for Solution based on Silhouette Coefficient"
   ]
  },
  {
   "cell_type": "code",
   "execution_count": 14,
   "metadata": {
    "collapsed": false
   },
   "outputs": [
    {
     "name": "stdout",
     "output_type": "stream",
     "text": [
      "\n",
      "----- Selected K-means Cluster Analysis for Segments -----\n",
      "\n",
      "nclusters:  2  silhouette coefficient:  0.365424558428\n",
      "nclusters:  3  silhouette coefficient:  0.314388336183\n",
      "nclusters:  4  silhouette coefficient:  0.333350753678\n",
      "nclusters:  5  silhouette coefficient:  0.377370568187\n",
      "nclusters:  6  silhouette coefficient:  0.380656762221\n",
      "nclusters:  7  silhouette coefficient:  0.337416451292\n",
      "nclusters:  8  silhouette coefficient:  0.244135708094\n",
      "nclusters:  9  silhouette coefficient:  0.151817122951\n",
      "\n"
     ]
    }
   ],
   "source": [
    "print('')\n",
    "print('----- Selected K-means Cluster Analysis for Segments -----')\n",
    "print('')\n",
    "\n",
    "# here we are working in much the way we would in a market research\n",
    "# study looking for market segments... here segments/clusters of students\n",
    "\n",
    "# specify the number of clusters in order to perform \n",
    "# K-means cluster analysis on the variables in the study\n",
    "# with no preconceived notions about the number of student segments/clusters\n",
    "# we search across various cluster analysis solutions defined \n",
    "# each individual k-means solution is defined by the argument n_clusters\n",
    "\n",
    "# consider selecting a solution based on the silhouette coefficient\n",
    "for nclusters in range(2,10): # search between 2 and 10 clusters/segments\n",
    "    kmeans = KMeans(n_clusters = nclusters, n_init = 25, random_state = 1)\n",
    "    kmeans.fit(timeuse_kmeanscluster_data)\n",
    "    segment = kmeans.predict(timeuse_kmeanscluster_data)  # cluster ids for variables\n",
    "    print('nclusters: ', nclusters, ' silhouette coefficient: ', \n",
    "        metrics.silhouette_score(timeuse_kmeanscluster_data, segment, \n",
    "            metric='euclidean'))\n",
    "\n",
    "# results suggest that a six-cluster/segment solution is best\n",
    "\n",
    "print('')"
   ]
  },
  {
   "cell_type": "markdown",
   "metadata": {},
   "source": [
    "#### K-Means Clustering of n=6"
   ]
  },
  {
   "cell_type": "code",
   "execution_count": 15,
   "metadata": {
    "collapsed": false
   },
   "outputs": [
    {
     "name": "stdout",
     "output_type": "stream",
     "text": [
      "\n",
      "----- Solution for Six Segments -----\n",
      "\n",
      "\n",
      "   cluster  variable\n",
      "4        0  shopping\n",
      "5        0  personal\n",
      "\n",
      "   cluster      variable\n",
      "0        1  professional\n",
      "1        1     transport\n",
      "\n",
      "   cluster variable\n",
      "8        2       tv\n",
      "\n",
      "   cluster  variable\n",
      "6        3  mealtime\n",
      "7        3     sleep\n",
      "\n",
      "   cluster   variable\n",
      "2        4  housework\n",
      "3        4  childcare\n",
      "\n",
      "   cluster variable\n",
      "9        5  leisure\n",
      "Silhouette coefficient for the five-cluster k-means solution:  0.380656762221\n"
     ]
    }
   ],
   "source": [
    "print('')\n",
    "print('----- Solution for Six Segments -----')\n",
    "print('')\n",
    "\n",
    "\n",
    "# assuming that there are six clusters to identify\n",
    "    \n",
    "kmeans = KMeans(n_clusters = 6, n_init = 25, random_state = 1)\n",
    "kmeans.fit(timeuse_kmeanscluster_data)\n",
    "cluster = kmeans.predict(timeuse_kmeanscluster_data)  # cluster ids for variables\n",
    "\n",
    "# print(variable_kmeans_solution)\n",
    "# create pandas DataFrame for summarizing the cluster analysis results\n",
    "variable_kmeans_solution = pd.DataFrame(OrderedDict([('cluster', cluster),\n",
    "    ('variable', variable[5:15])]))\n",
    "\n",
    "# print results of variable clustering one cluster at a time\n",
    "for cluster_id in sorted(variable_kmeans_solution.cluster.unique()):\n",
    "    print()\n",
    "    print(variable_kmeans_solution.loc[variable_kmeans_solution['cluster'] == \\\n",
    "        cluster_id])\n",
    "\n",
    "# evaluate the clustering solution using the silhouette coefficient\n",
    "print('Silhouette coefficient for the six       $-cluster k-means solution: ', \n",
    "    metrics.silhouette_score(timeuse_kmeanscluster_data, cluster, \n",
    "        metric = 'euclidean'))   "
   ]
  },
  {
   "cell_type": "markdown",
   "metadata": {},
   "source": [
    "#### Hierarchical Clustering"
   ]
  },
  {
   "cell_type": "code",
   "execution_count": 17,
   "metadata": {
    "collapsed": false
   },
   "outputs": [],
   "source": [
    "# no need to specify the number of clusters in order to perform \n",
    "# hierarchical cluster analysis... this is one of its key advantages\n",
    "timeuse_hiercluster_data = timeuse_kmeanscluster_data\n",
    "variable = timeuse.columns"
   ]
  },
  {
   "cell_type": "code",
   "execution_count": 18,
   "metadata": {
    "collapsed": false
   },
   "outputs": [],
   "source": [
    "# hierarchical cluster analysis gives us the chance to explore the\n",
    "# number-of-personality-factors question... \n",
    "# let's see what the picture looks like\n",
    "# \"the picture,\" in this case, is often a tree diagram \n",
    "\n",
    "# compute the full tree with all observations\n",
    "ward = AgglomerativeClustering(linkage='ward', \n",
    "    n_clusters = timeuse_hiercluster_data.shape[0],\n",
    "    compute_full_tree = True)\n",
    "ward_full_tree = ward.fit(timeuse_hiercluster_data)\n",
    "\n",
    "# use variable names for the cluster labels \n",
    "cluster_labels = map(lambda x: df1.columns[x], ward_full_tree.labels_)"
   ]
  },
  {
   "cell_type": "code",
   "execution_count": 19,
   "metadata": {
    "collapsed": false
   },
   "outputs": [],
   "source": [
    "# plot the full hierarchical tree with variable labels\n",
    "plot_dendrogram(ward_full_tree, labels = cluster_labels)\n",
    "plt.show()"
   ]
  },
  {
   "cell_type": "code",
   "execution_count": 20,
   "metadata": {
    "collapsed": false
   },
   "outputs": [
    {
     "name": "stdout",
     "output_type": "stream",
     "text": [
      "\n",
      "   cluster  variable\n",
      "6        0  mealtime\n",
      "7        0     sleep\n",
      "9        0   leisure\n",
      "\n",
      "   cluster   variable\n",
      "2        1  housework\n",
      "3        1  childcare\n",
      "\n",
      "   cluster  variable\n",
      "4        2  shopping\n",
      "5        2  personal\n",
      "8        2        tv\n",
      "\n",
      "   cluster      variable\n",
      "0        3  professional\n",
      "1        3     transport\n"
     ]
    }
   ],
   "source": [
    "# subjective review of the dendrogram suggests that about four clusters \n",
    "# would do well as a solution for clustering the variables\n",
    "# so let's specify eight and see how it does\n",
    "ward_four = AgglomerativeClustering(linkage='ward', \n",
    "    n_clusters = 4,\n",
    "    compute_full_tree = False)\n",
    "ward_four_tree = ward_four.fit(timeuse_hiercluster_data)\n",
    "# get cluster ids for variables\n",
    "ward_four_cluster = ward_four.fit_predict(timeuse_hiercluster_data)\n",
    "\n",
    "# create pandas DataFrame for summarizing the cluster analysis results\n",
    "variable_ward_solution = \\\n",
    "    pd.DataFrame(OrderedDict([('cluster', ward_four_cluster),\n",
    "    ('variable', variable[5:15] )]))\n",
    "    \n",
    "# print results of variable clustering one cluster at a time\n",
    "for cluster_id in sorted(set(variable_ward_solution.cluster)):\n",
    "    print()\n",
    "    print(variable_ward_solution.loc[variable_ward_solution['cluster'] == \\\n",
    "        cluster_id])\n",
    "\n",
    "# The silhouette coefficient is a useful general-purpose index\n",
    "# for evaluating the strength of a clustering solution. The original\n",
    "# reference is\n",
    "# Peter J. Rousseeuw (1987). “Silhouettes: a Graphical Aid to the \n",
    "#     Interpretation and Validation of Cluster Analysis”. \n",
    "#     Computational and Applied Mathematics 20: 53–65. \n",
    "#     doi:10.1016/0377-0427(87)90125-7.\n",
    "# larger positive values of the silhouette coefficient are preferred\n",
    "# these indicate dense, well separated clusters\n",
    "   \n",
    "\n"
   ]
  },
  {
   "cell_type": "code",
   "execution_count": 21,
   "metadata": {
    "collapsed": false
   },
   "outputs": [
    {
     "name": "stdout",
     "output_type": "stream",
     "text": [
      "Silhouette coefficient for the hierarchical clustering solution:  0.333350753678\n"
     ]
    }
   ],
   "source": [
    "# evaluate the clustering solution using the silhouette coefficient\n",
    "print('Silhouette coefficient for the hierarchical clustering solution: ', \n",
    "    metrics.silhouette_score(timeuse_hiercluster_data, ward_four_cluster, \n",
    "        metric = 'euclidean'))   \n",
    "        \n",
    "# a low silhouette coefficient suggests that we may want to try\n",
    "# alternative values for the number of clusters \n",
    "# or perhaps this problem is not particularly well suited for cluster analysis                                 \n",
    "                                                                                       \n",
    "# clustering of students (segmentation) is left as an exercise\n",
    "\n",
    "# for clustering students we work in much the way we would in a market research\n",
    "# study looking for market segments... here segments/clusters of students\n",
    "\n",
    "# no need to specify the number of clusters in order to perform \n",
    "# hierarchical cluster analysis on the students in the study\n",
    "# we have no preconceived notions about the number of student segments/clusters\n",
    "# hierarchical cluster analysis may well point us to students who are\n",
    "# similar to one another in their stated personality attributes\n",
    "# it may also find student outliers, those who do not fit cleanly into\n",
    "# and group or segment or students... identification of outliers\n",
    "# is one of the key benefits of hierarchical cluster analysis"
   ]
  },
  {
   "cell_type": "markdown",
   "metadata": {},
   "source": [
    "### Clustering of Demographic Groups"
   ]
  },
  {
   "cell_type": "markdown",
   "metadata": {},
   "source": [
    "#### K-Means Clustering"
   ]
  },
  {
   "cell_type": "code",
   "execution_count": 23,
   "metadata": {
    "collapsed": false
   },
   "outputs": [],
   "source": [
    "# suppose we think five factors (and five clusters) will be sufficient \n",
    "# here we use our knowledge of the big-five personality factors\n",
    "# assuming that there may well be five clusters to identify\n",
    "kmeans = KMeans(n_clusters = 3, n_init = 25, random_state = 1)\n",
    "kmeans.fit(demo_kmeanscluster_data)\n",
    "cluster = kmeans.predict(demo_kmeanscluster_data)  # cluster ids for variables "
   ]
  },
  {
   "cell_type": "code",
   "execution_count": 24,
   "metadata": {
    "collapsed": false
   },
   "outputs": [],
   "source": [
    "variable = df3.columns"
   ]
  },
  {
   "cell_type": "code",
   "execution_count": 25,
   "metadata": {
    "collapsed": false
   },
   "outputs": [
    {
     "name": "stdout",
     "output_type": "stream",
     "text": [
      "\n",
      "    cluster                             variable\n",
      "0         0                           Group_maea\n",
      "1         0                           Group_maus\n",
      "2         0                           Group_mawe\n",
      "3         0                           Group_mayu\n",
      "4         0                          Group_mnsea\n",
      "5         0                          Group_mnsus\n",
      "6         0                          Group_mnswe\n",
      "7         0                          Group_mnsyu\n",
      "8         0                           Group_msea\n",
      "9         0                           Group_msus\n",
      "10        0                           Group_mswe\n",
      "11        0                           Group_msyu\n",
      "12        0                           Group_waea\n",
      "13        0                           Group_waus\n",
      "14        0                           Group_wawe\n",
      "15        0                           Group_wayu\n",
      "16        0                          Group_wnaea\n",
      "17        0                          Group_wnaus\n",
      "18        0                          Group_wnawe\n",
      "19        0                          Group_wnayu\n",
      "20        0                          Group_wnsea\n",
      "21        0                          Group_wnsus\n",
      "22        0                          Group_wnswe\n",
      "23        0                          Group_wnsyu\n",
      "24        0                           Group_wsea\n",
      "25        0                           Group_wsus\n",
      "26        0                           Group_wswe\n",
      "27        0                           Group_wsyu\n",
      "30        0      Professional_Work_Status_active\n",
      "31        0  Professional_Work_Status_not active\n",
      "33        0                Marital_Status_single\n",
      "34        0                      Country_Eastern\n",
      "35        0                          Country_USA\n",
      "36        0                      Country_Western\n",
      "37        0                   Country_Yugoslavia\n",
      "\n",
      "    cluster                   variable\n",
      "28        1                 Gender_men\n",
      "32        1  Marital_Status_not single\n",
      "\n",
      "    cluster      variable\n",
      "29        2  Gender_women\n",
      "Silhouette coefficient for the five-cluster k-means solution:  0.382626706071\n"
     ]
    }
   ],
   "source": [
    "# print(variable_kmeans_solution)\n",
    "# create pandas DataFrame for summarizing the cluster analysis results\n",
    "variable_kmeans_solution = pd.DataFrame(OrderedDict([('cluster', cluster),\n",
    "    ('variable', variable)]))\n",
    "\n",
    "# print results of variable clustering one cluster at a time\n",
    "for cluster_id in sorted(variable_kmeans_solution.cluster.unique()):\n",
    "    print()\n",
    "    print(variable_kmeans_solution.loc[variable_kmeans_solution['cluster'] == \\\n",
    "        cluster_id])\n",
    "\n",
    "# The silhouette coefficient is a useful general-purpose index\n",
    "# for evaluating the strength of a clustering solution. The original\n",
    "# reference is\n",
    "# Peter J. Rousseeuw (1987). “Silhouettes: a Graphical Aid to the \n",
    "#     Interpretation and Validation of Cluster Analysis”. \n",
    "#     Computational and Applied Mathematics 20: 53–65. \n",
    "#     doi:10.1016/0377-0427(87)90125-7.\n",
    "# larger positive values of the silhouette coefficient are preferred\n",
    "# these indicate dense, well separated clusters\n",
    "   \n",
    "# evaluate the clustering solution using the silhouette coefficient\n",
    "print('Silhouette coefficient for the five-cluster k-means solution: ', \n",
    "    metrics.silhouette_score(demo_kmeanscluster_data, cluster, \n",
    "        metric = 'euclidean'))   \n",
    "        \n",
    "# a low silhouette coefficient suggests that we may want to try\n",
    "# kmeans with alternative values for the number of clusters \n",
    "# or perhaps this problem is not particularly well suited for cluster analysis "
   ]
  },
  {
   "cell_type": "markdown",
   "metadata": {},
   "source": [
    "#### Search for Solution based on Silhouette Coefficient"
   ]
  },
  {
   "cell_type": "code",
   "execution_count": 26,
   "metadata": {
    "collapsed": false
   },
   "outputs": [
    {
     "name": "stdout",
     "output_type": "stream",
     "text": [
      "\n",
      "----- Selected K-means Cluster Analysis for Segments -----\n",
      "\n",
      "nclusters:  2  silhouette coefficient:  0.47248697792\n",
      "nclusters:  3  silhouette coefficient:  0.382626706071\n",
      "nclusters:  4  silhouette coefficient:  0.341026502425\n",
      "nclusters:  5  silhouette coefficient:  0.322643439605\n",
      "nclusters:  6  silhouette coefficient:  0.321445949465\n",
      "nclusters:  7  silhouette coefficient:  0.314610806409\n",
      "nclusters:  8  silhouette coefficient:  0.311990298092\n",
      "nclusters:  9  silhouette coefficient:  0.310333520006\n",
      "nclusters:  10  silhouette coefficient:  0.310702934371\n",
      "nclusters:  11  silhouette coefficient:  0.251449497565\n",
      "nclusters:  12  silhouette coefficient:  -1.11559201012e-16\n",
      "nclusters:  13  silhouette coefficient:  -1.07427378752e-16\n",
      "nclusters:  14  silhouette coefficient:  -2.06591112985e-16\n",
      "nclusters:  15  silhouette coefficient:  -1.98327468465e-16\n",
      "nclusters:  16  silhouette coefficient:  -1.90063823946e-16\n",
      "nclusters:  17  silhouette coefficient:  -1.81800179427e-16\n",
      "nclusters:  18  silhouette coefficient:  -1.73536534907e-16\n",
      "nclusters:  19  silhouette coefficient:  -1.65272890388e-16\n",
      "nclusters:  20  silhouette coefficient:  -1.57009245868e-16\n",
      "nclusters:  21  silhouette coefficient:  -1.48745601349e-16\n",
      "nclusters:  22  silhouette coefficient:  -1.4048195683e-16\n",
      "nclusters:  23  silhouette coefficient:  -1.3221831231e-16\n",
      "nclusters:  24  silhouette coefficient:  -1.23954667791e-16\n",
      "nclusters:  25  silhouette coefficient:  -1.15691023271e-16\n",
      "nclusters:  26  silhouette coefficient:  -1.07427378752e-16\n",
      "nclusters:  27  silhouette coefficient:  -9.91637342327e-17\n",
      "nclusters:  28  silhouette coefficient:  -4.54500448566e-17\n",
      "nclusters:  29  silhouette coefficient:  -4.13182225969e-17\n",
      "nclusters:  30  silhouette coefficient:  -3.71864003372e-17\n",
      "nclusters:  31  silhouette coefficient:  -3.30545780776e-17\n",
      "nclusters:  32  silhouette coefficient:  0.0\n",
      "nclusters:  33  silhouette coefficient:  0.0\n",
      "nclusters:  34  silhouette coefficient:  0.0\n",
      "nclusters:  35  silhouette coefficient:  0.0\n",
      "nclusters:  36  silhouette coefficient:  0.0\n",
      "nclusters:  37  silhouette coefficient:  0.0\n",
      "\n"
     ]
    }
   ],
   "source": [
    "print('')\n",
    "print('----- Selected K-means Cluster Analysis for Segments -----')\n",
    "print('')\n",
    "\n",
    "# here we are working in much the way we would in a market research\n",
    "# study looking for market segments... here segments/clusters of students\n",
    "\n",
    "# specify the number of clusters in order to perform \n",
    "# K-means cluster analysis on the variables in the study\n",
    "# with no preconceived notions about the number of student segments/clusters\n",
    "# we search across various cluster analysis solutions defined \n",
    "# each individual k-means solution is defined by the argument n_clusters\n",
    "\n",
    "# consider selecting a solution based on the silhouette coefficient\n",
    "for nclusters in range(2,38): # search between 2 and 10 clusters/segments\n",
    "    kmeans = KMeans(n_clusters = nclusters, n_init = 25, random_state = 1)\n",
    "    kmeans.fit(demo_kmeanscluster_data)\n",
    "    segment = kmeans.predict(demo_kmeanscluster_data)  # cluster ids for variables\n",
    "    print('nclusters: ', nclusters, ' silhouette coefficient: ', \n",
    "        metrics.silhouette_score(demo_kmeanscluster_data, segment, \n",
    "            metric='euclidean'))\n",
    "\n",
    "# results suggest that a two-cluster/segment solution is best\n",
    "\n",
    "print('')"
   ]
  },
  {
   "cell_type": "code",
   "execution_count": 27,
   "metadata": {
    "collapsed": false
   },
   "outputs": [
    {
     "name": "stdout",
     "output_type": "stream",
     "text": [
      "\n",
      "    cluster                             variable\n",
      "0         0                           Group_maea\n",
      "1         0                           Group_maus\n",
      "2         0                           Group_mawe\n",
      "3         0                           Group_mayu\n",
      "4         0                          Group_mnsea\n",
      "5         0                          Group_mnsus\n",
      "6         0                          Group_mnswe\n",
      "7         0                          Group_mnsyu\n",
      "8         0                           Group_msea\n",
      "9         0                           Group_msus\n",
      "10        0                           Group_mswe\n",
      "11        0                           Group_msyu\n",
      "12        0                           Group_waea\n",
      "13        0                           Group_waus\n",
      "14        0                           Group_wawe\n",
      "15        0                           Group_wayu\n",
      "16        0                          Group_wnaea\n",
      "17        0                          Group_wnaus\n",
      "18        0                          Group_wnawe\n",
      "19        0                          Group_wnayu\n",
      "20        0                          Group_wnsea\n",
      "21        0                          Group_wnsus\n",
      "22        0                          Group_wnswe\n",
      "23        0                          Group_wnsyu\n",
      "24        0                           Group_wsea\n",
      "25        0                           Group_wsus\n",
      "26        0                           Group_wswe\n",
      "27        0                           Group_wsyu\n",
      "28        0                           Gender_men\n",
      "30        0      Professional_Work_Status_active\n",
      "31        0  Professional_Work_Status_not active\n",
      "32        0            Marital_Status_not single\n",
      "33        0                Marital_Status_single\n",
      "34        0                      Country_Eastern\n",
      "35        0                          Country_USA\n",
      "36        0                      Country_Western\n",
      "37        0                   Country_Yugoslavia\n",
      "\n",
      "    cluster      variable\n",
      "29        1  Gender_women\n",
      "Silhouette coefficient for the five-cluster k-means solution:  0.47248697792\n"
     ]
    }
   ],
   "source": [
    "# suppose we think five factors (and five clusters) will be sufficient \n",
    "# here we use our knowledge of the big-five personality factors\n",
    "# assuming that there may well be five clusters to identify\n",
    "kmeans = KMeans(n_clusters = 2, n_init = 25, random_state = 1)\n",
    "kmeans.fit(demo_kmeanscluster_data)\n",
    "cluster = kmeans.predict(demo_kmeanscluster_data)  # cluster ids for variables \n",
    "\n",
    "# print(variable_kmeans_solution)\n",
    "# create pandas DataFrame for summarizing the cluster analysis results\n",
    "variable_kmeans_solution = pd.DataFrame(OrderedDict([('cluster', cluster),\n",
    "    ('variable', variable)]))\n",
    "\n",
    "# print results of variable clustering one cluster at a time\n",
    "for cluster_id in sorted(variable_kmeans_solution.cluster.unique()):\n",
    "    print()\n",
    "    print(variable_kmeans_solution.loc[variable_kmeans_solution['cluster'] == \\\n",
    "        cluster_id])\n",
    "\n",
    "# The silhouette coefficient is a useful general-purpose index\n",
    "# for evaluating the strength of a clustering solution. The original\n",
    "# reference is\n",
    "# Peter J. Rousseeuw (1987). “Silhouettes: a Graphical Aid to the \n",
    "#     Interpretation and Validation of Cluster Analysis”. \n",
    "#     Computational and Applied Mathematics 20: 53–65. \n",
    "#     doi:10.1016/0377-0427(87)90125-7.\n",
    "# larger positive values of the silhouette coefficient are preferred\n",
    "# these indicate dense, well separated clusters\n",
    "   \n",
    "# evaluate the clustering solution using the silhouette coefficient\n",
    "print('Silhouette coefficient for the five-cluster k-means solution: ', \n",
    "    metrics.silhouette_score(demo_kmeanscluster_data, cluster, \n",
    "        metric = 'euclidean'))   \n",
    "        \n",
    "# a low silhouette coefficient suggests that we may want to try\n",
    "# kmeans with alternative values for the number of clusters \n",
    "# or perhaps this problem is not particularly well suited for cluster analysis "
   ]
  },
  {
   "cell_type": "markdown",
   "metadata": {},
   "source": [
    "#### Hierchical Clustering"
   ]
  },
  {
   "cell_type": "code",
   "execution_count": 28,
   "metadata": {
    "collapsed": true
   },
   "outputs": [],
   "source": [
    "demo_hiercluster_data = demo_kmeanscluster_data"
   ]
  },
  {
   "cell_type": "code",
   "execution_count": 35,
   "metadata": {
    "collapsed": false
   },
   "outputs": [],
   "source": [
    "# hierarchical cluster analysis gives us the chance to explore the\n",
    "# number-of-personality-factors question... \n",
    "# let's see what the picture looks like\n",
    "# \"the picture,\" in this case, is often a tree diagram \n",
    "\n",
    "# compute the full tree with all observations\n",
    "ward = AgglomerativeClustering(linkage='ward', \n",
    "    n_clusters = demo_hiercluster_data.shape[0],\n",
    "    compute_full_tree = True)\n",
    "ward_full_tree = ward.fit(demo_hiercluster_data)\n",
    "\n",
    "# use variable names for the cluster labels \n",
    "cluster_labels = map(lambda x: df3.columns[x], ward_full_tree.labels_)"
   ]
  },
  {
   "cell_type": "code",
   "execution_count": 36,
   "metadata": {
    "collapsed": false
   },
   "outputs": [],
   "source": [
    "# plot the full hierarchical tree with variable labels\n",
    "plot_dendrogram(ward_full_tree, labels = cluster_labels)\n",
    "plt.show()"
   ]
  },
  {
   "cell_type": "code",
   "execution_count": 37,
   "metadata": {
    "collapsed": false
   },
   "outputs": [
    {
     "name": "stdout",
     "output_type": "stream",
     "text": [
      "\n",
      "    cluster                         variable\n",
      "30        0  Professional_Work_Status_active\n",
      "34        0                  Country_Eastern\n",
      "\n",
      "    cluster                             variable\n",
      "0         1                           Group_maea\n",
      "1         1                           Group_maus\n",
      "2         1                           Group_mawe\n",
      "3         1                           Group_mayu\n",
      "4         1                          Group_mnsea\n",
      "5         1                          Group_mnsus\n",
      "6         1                          Group_mnswe\n",
      "7         1                          Group_mnsyu\n",
      "8         1                           Group_msea\n",
      "9         1                           Group_msus\n",
      "10        1                           Group_mswe\n",
      "11        1                           Group_msyu\n",
      "12        1                           Group_waea\n",
      "13        1                           Group_waus\n",
      "14        1                           Group_wawe\n",
      "15        1                           Group_wayu\n",
      "16        1                          Group_wnaea\n",
      "17        1                          Group_wnaus\n",
      "18        1                          Group_wnawe\n",
      "19        1                          Group_wnayu\n",
      "20        1                          Group_wnsea\n",
      "21        1                          Group_wnsus\n",
      "22        1                          Group_wnswe\n",
      "23        1                          Group_wnsyu\n",
      "24        1                           Group_wsea\n",
      "25        1                           Group_wsus\n",
      "26        1                           Group_wswe\n",
      "27        1                           Group_wsyu\n",
      "31        1  Professional_Work_Status_not active\n",
      "\n",
      "    cluster            variable\n",
      "37        2  Country_Yugoslavia\n",
      "\n",
      "    cluster         variable\n",
      "36        3  Country_Western\n",
      "\n",
      "    cluster     variable\n",
      "35        4  Country_USA\n",
      "\n",
      "    cluster    variable\n",
      "28        5  Gender_men\n",
      "\n",
      "    cluster      variable\n",
      "29        6  Gender_women\n",
      "\n",
      "    cluster               variable\n",
      "33        7  Marital_Status_single\n",
      "\n",
      "    cluster                   variable\n",
      "32        8  Marital_Status_not single\n"
     ]
    }
   ],
   "source": [
    "# subjective review of the dendrogram suggests that about four clusters \n",
    "# would do well as a solution for clustering the variables\n",
    "# so let's specify eight and see how it does\n",
    "ward_nine = AgglomerativeClustering(linkage='ward', \n",
    "    n_clusters = 9,\n",
    "    compute_full_tree = False)\n",
    "ward_nine_tree = ward_nine.fit(demo_hiercluster_data)\n",
    "# get cluster ids for variables\n",
    "ward_nine_cluster = ward_nine.fit_predict(demo_hiercluster_data)\n",
    "\n",
    "# create pandas DataFrame for summarizing the cluster analysis results\n",
    "variable_ward_solution = \\\n",
    "    pd.DataFrame(OrderedDict([('cluster', ward_nine_cluster),\n",
    "    ('variable', variable )]))\n",
    "    \n",
    "# print results of variable clustering one cluster at a time\n",
    "for cluster_id in sorted(set(variable_ward_solution.cluster)):\n",
    "    print()\n",
    "    print(variable_ward_solution.loc[variable_ward_solution['cluster'] == \\\n",
    "        cluster_id])\n",
    "\n",
    "# The silhouette coefficient is a useful general-purpose index\n",
    "# for evaluating the strength of a clustering solution. The original\n",
    "# reference is\n",
    "# Peter J. Rousseeuw (1987). “Silhouettes: a Graphical Aid to the \n",
    "#     Interpretation and Validation of Cluster Analysis”. \n",
    "#     Computational and Applied Mathematics 20: 53–65. \n",
    "#     doi:10.1016/0377-0427(87)90125-7.\n",
    "# larger positive values of the silhouette coefficient are preferred\n",
    "# these indicate dense, well separated clusters\n",
    "   \n",
    "\n"
   ]
  },
  {
   "cell_type": "code",
   "execution_count": 38,
   "metadata": {
    "collapsed": false
   },
   "outputs": [
    {
     "name": "stdout",
     "output_type": "stream",
     "text": [
      "Silhouette coefficient for the hierarchical clustering solution:  0.310333520006\n"
     ]
    }
   ],
   "source": [
    "# evaluate the clustering solution using the silhouette coefficient\n",
    "print('Silhouette coefficient for the hierarchical clustering solution: ', \n",
    "    metrics.silhouette_score(demo_hiercluster_data, ward_nine_cluster, \n",
    "        metric = 'euclidean'))   \n",
    "        \n",
    "# a low silhouette coefficient suggests that we may want to try\n",
    "# alternative values for the number of clusters \n",
    "# or perhaps this problem is not particularly well suited for cluster analysis                                 \n",
    "                                                                                       \n",
    "# clustering of students (segmentation) is left as an exercise\n",
    "\n",
    "# for clustering students we work in much the way we would in a market research\n",
    "# study looking for market segments... here segments/clusters of students\n",
    "\n",
    "# no need to specify the number of clusters in order to perform \n",
    "# hierarchical cluster analysis on the students in the study\n",
    "# we have no preconceived notions about the number of student segments/clusters\n",
    "# hierarchical cluster analysis may well point us to students who are\n",
    "# similar to one another in their stated personality attributes\n",
    "# it may also find student outliers, those who do not fit cleanly into\n",
    "# and group or segment or students... identification of outliers\n",
    "# is one of the key benefits of hierarchical cluster analysis"
   ]
  },
  {
   "cell_type": "code",
   "execution_count": null,
   "metadata": {
    "collapsed": true
   },
   "outputs": [],
   "source": []
  }
 ],
 "metadata": {
  "kernelspec": {
   "display_name": "Python 2",
   "language": "python",
   "name": "python2"
  },
  "language_info": {
   "codemirror_mode": {
    "name": "ipython",
    "version": 2
   },
   "file_extension": ".py",
   "mimetype": "text/x-python",
   "name": "python",
   "nbconvert_exporter": "python",
   "pygments_lexer": "ipython2",
   "version": "2.7.11"
  }
 },
 "nbformat": 4,
 "nbformat_minor": 0
}
